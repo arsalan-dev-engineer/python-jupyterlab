{
 "cells": [
  {
   "cell_type": "markdown",
   "id": "b5c56ed6-24ea-4589-b234-73bd2687ec7d",
   "metadata": {},
   "source": [
    "**What are Python Sets?**\n",
    "\n",
    "A set is a collection of unique, unordered items in Python. It is similar to a list, but it does not allow duplicates. It is useful when you need to store a collection of items and don't care about the order, and you want to ensure no duplicates exist.\n",
    "\n",
    "Key Properties of Sets:\n",
    "* **Unordered**: The items in a set do not have a specific order.\n",
    "* **UniqueElements**: Duplicate items are automatically removed.\n",
    "* **Mutable**: You can add and remove items from a set.\n",
    "\n",
    "Syntax: my_set = {1, 2, 3, 4}\n",
    "\n",
    "Challenges: https://www.w3resource.com/python-exercises/sets/"
   ]
  },
  {
   "cell_type": "code",
   "execution_count": 32,
   "id": "fe4052c2-e603-4a1e-a9e0-475c4d1c4ff0",
   "metadata": {},
   "outputs": [
    {
     "name": "stdout",
     "output_type": "stream",
     "text": [
      "type: <class 'set'>\n",
      "u e s w o 3 c r "
     ]
    }
   ],
   "source": [
    "# 2. Write a Python program to iterate over sets.\n",
    "\n",
    "# create a set variable\n",
    "text1 = set(\"w3resource\")\n",
    "# print variable type\n",
    "print(\"type:\", type(text))\n",
    "\n",
    "# iterate through each item in set\n",
    "for i in text1:\n",
    "    print(i, end=\" \")"
   ]
  },
  {
   "cell_type": "code",
   "execution_count": 35,
   "id": "99a78b09-1a9c-4150-9153-668a96ee2e4d",
   "metadata": {},
   "outputs": [
    {
     "name": "stdout",
     "output_type": "stream",
     "text": [
      "{'alice@example.com', 'bob@example.com'}\n"
     ]
    }
   ],
   "source": [
    "# Define two groups (e.g., user lists for two social networks)\n",
    "group1 = {\"alice@example.com\", \"bob@example.com\", \"charlie@example.com\", \"dave@example.com\", \"eve@example.com\"}\n",
    "group2 = {\"frank@example.com\", \"bob@example.com\", \"grace@example.com\", \"alice@example.com\"}\n",
    "\n",
    "# Find the intersection (common users between both groups)\n",
    "common_users = group1 & group2\n",
    "\n",
    "# Output the common users\n",
    "print(common_users)  # Output: {'alice@example.com', 'bob@example.com'}"
   ]
  },
  {
   "cell_type": "code",
   "execution_count": 34,
   "id": "80c1851c-a052-499f-8ec7-8d2589ed7e73",
   "metadata": {},
   "outputs": [
    {
     "name": "stdout",
     "output_type": "stream",
     "text": [
      "Items to purchase:\n",
      " {'lime', 'lemon', 'apple'}\n",
      "\n",
      "Items in the fridge that are not needed:\n",
      " {'orange', 'blueberry', 'melon'}\n"
     ]
    }
   ],
   "source": [
    "# Checking for Unique Data\n",
    "\n",
    "# Items in the fridge and shopping list\n",
    "fridge_items = {\"banana\", \"orange\", \"kiwi\", \"strawberry\", \"melon\", \"onion\", \"blueberry\"}\n",
    "shopping_list = {\"kiwi\", \"apple\", \"lemon\", \"strawberry\", \"lime\", \"onion\", \"banana\"}\n",
    "\n",
    "# Items to purchase (not in fridge) and items in the fridge (no need to buy)\n",
    "to_purchase = shopping_list - fridge_items\n",
    "not_needed = fridge_items - shopping_list\n",
    "\n",
    "# Output the results\n",
    "print(\"Items to purchase:\\n\", to_purchase)\n",
    "print()\n",
    "print(\"Items in the fridge that are not needed:\\n\", not_needed)\n"
   ]
  },
  {
   "cell_type": "code",
   "execution_count": 38,
   "id": "6e73feeb-26d7-49f0-b20a-5bda664537b2",
   "metadata": {},
   "outputs": [
    {
     "name": "stdout",
     "output_type": "stream",
     "text": [
      "Items only in item3 (not in item4): {'orange', 'apple'}\n",
      "Items found in both item3 and item4: {'banana', 'pear'}\n"
     ]
    }
   ],
   "source": [
    "# Define two sets of items  \n",
    "item3 = {\"apple\", \"banana\", \"pear\", \"orange\"}  \n",
    "item4 = {\"kiwi\", \"melon\", \"banana\", \"pear\"}  \n",
    "\n",
    "# Find unique items in item3 (items that are not in item4)  \n",
    "unique_items = item3 - item4  \n",
    "\n",
    "# Find common items in both sets  \n",
    "common_items = item3 & item4  \n",
    "\n",
    "# Display the results  \n",
    "print(\"Items only in item3 (not in item4):\", unique_items)  \n",
    "print(\"Items found in both item3 and item4:\", common_items)  "
   ]
  },
  {
   "cell_type": "code",
   "execution_count": 42,
   "id": "90a3dda8-de54-4965-a8f2-3ce62ab26322",
   "metadata": {},
   "outputs": [
    {
     "name": "stdout",
     "output_type": "stream",
     "text": [
      "{'three', 'two', 'one'}\n"
     ]
    }
   ],
   "source": [
    "# adding items to set\n",
    "current_list1 = {\"one\", \"two\"}\n",
    "current_list1.add(\"three\")\n",
    "print(current_list1)"
   ]
  },
  {
   "cell_type": "code",
   "execution_count": null,
   "id": "f72f0525-a30f-4813-a60b-1a3bb03cf9d5",
   "metadata": {},
   "outputs": [],
   "source": [
    "# adding multiple elements to "
   ]
  },
  {
   "cell_type": "code",
   "execution_count": 47,
   "id": "8bfd86bc-c9ae-4722-b9f8-4ed4591d34f9",
   "metadata": {},
   "outputs": [
    {
     "name": "stdout",
     "output_type": "stream",
     "text": [
      "{'two', 'one', 'four'}\n"
     ]
    }
   ],
   "source": [
    "# removing item from list\n",
    "current_list2 = {\"one\", \"two\", \"three\", \"four\"}\n",
    "current_list2.remove(\"three\")\n",
    "print(current_list2)"
   ]
  },
  {
   "cell_type": "code",
   "execution_count": null,
   "id": "f5c6c6b1-13da-4ccf-91b8-4b8df3960d11",
   "metadata": {},
   "outputs": [],
   "source": []
  }
 ],
 "metadata": {
  "kernelspec": {
   "display_name": "Python 3 (ipykernel)",
   "language": "python",
   "name": "python3"
  },
  "language_info": {
   "codemirror_mode": {
    "name": "ipython",
    "version": 3
   },
   "file_extension": ".py",
   "mimetype": "text/x-python",
   "name": "python",
   "nbconvert_exporter": "python",
   "pygments_lexer": "ipython3",
   "version": "3.10.12"
  }
 },
 "nbformat": 4,
 "nbformat_minor": 5
}
