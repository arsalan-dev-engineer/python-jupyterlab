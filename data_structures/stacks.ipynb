{
 "cells": [
  {
   "cell_type": "markdown",
   "id": "f2f0f757-d452-4377-b7d2-8780400ee720",
   "metadata": {},
   "source": [
    "## Stacks Data Structure\n",
    "\n",
    "A stack is a linear data structure that follows the **Last In, First Out (LIFO)** principle. This means the last element added to the stack will be the first one to be removed. Stacks are used in situations where you need to keep track of function calls, undo operations, or when parsing expressions.\n",
    "\n",
    "### Key Properties of Stacks:\n",
    "\n",
    "- **LIFO Principle**: The last element pushed onto the stack is the first one to be popped off.\n",
    "- **Push Operation**: Adding an element to the top of the stack.\n",
    "- **Pop Operation**: Removing the top element from the stack.\n",
    "- **Peek/Top Operation**: Viewing the top element of the stack without removing it.\n",
    "- **Empty Operation**: Checking whether the stack is empty or not.\n",
    "\n",
    "### Operations on Stacks:\n",
    "- **Push**: Add an element to the top of the stack.\n",
    "- **Pop**: Remove the top element from the stack.\n",
    "- **Peek/Top**: View the element at the top of the stack without removing it.\n",
    "- **IsEmpty**: Check if the stack is empty.\n",
    "\n",
    "### Syntax (Using Python's List as a Stack):\n",
    "\n",
    "In Python, you can use a list to implement a stack, as it supports append and pop operations.\n",
    "\n",
    "```python\n",
    "# Stack using Python list\n",
    "stack = []\n",
    "\n",
    "# Push elements onto the stack\n",
    "stack.append(10)\n",
    "stack.append(20)\n",
    "stack.append(30)\n",
    "\n",
    "# Peek the top element\n",
    "top_element = stack[-1]  # 30\n",
    "\n",
    "# Pop an element from the stack\n",
    "popped_element = stack.pop()  # 30\n",
    "\n",
    "# Check if stack is empty\n",
    "is_empty = len(stack) == 0  # False\n"
   ]
  },
  {
   "cell_type": "code",
   "execution_count": 1,
   "id": "942a8c42-ffac-4c88-943b-71db422ebf43",
   "metadata": {},
   "outputs": [
    {
     "name": "stdout",
     "output_type": "stream",
     "text": [
      "30\n",
      "30\n",
      "False\n"
     ]
    }
   ],
   "source": [
    "class Stack:\n",
    "    def __init__(self):\n",
    "        self.stack = []\n",
    "\n",
    "    def push(self, data):\n",
    "        self.stack.append(data)\n",
    "\n",
    "    def pop(self):\n",
    "        if not self.is_empty():\n",
    "            return self.stack.pop()\n",
    "        else:\n",
    "            return \"Stack is empty\"\n",
    "\n",
    "    def peek(self):\n",
    "        if not self.is_empty():\n",
    "            return self.stack[-1]\n",
    "        else:\n",
    "            return \"Stack is empty\"\n",
    "\n",
    "    def is_empty(self):\n",
    "        return len(self.stack) == 0\n",
    "\n",
    "    def size(self):\n",
    "        return len(self.stack)\n",
    "\n",
    "# Usage example:\n",
    "s = Stack()\n",
    "s.push(10)\n",
    "s.push(20)\n",
    "s.push(30)\n",
    "\n",
    "print(s.peek())  # Output: 30\n",
    "print(s.pop())   # Output: 30\n",
    "print(s.is_empty())  # Output: False\n"
   ]
  },
  {
   "cell_type": "markdown",
   "id": "86324d32-862d-484e-9d4f-05c2078e3cb4",
   "metadata": {},
   "source": [
    "### Applications of Stacks:\n",
    "* Function Call Stack: Stacks are used to store function calls in programming languages, allowing function calls to be made and returned in the correct order.\n",
    "* Undo/Redo Operations: Stacks are used in text editors and graphic programs to implement undo and redo operations.\n",
    "* Expression Parsing: Stacks are used for parsing and evaluating expressions, such as in infix-to-postfix conversion.\n",
    "* Backtracking Algorithms: Stacks can be used to explore all possibilities in algorithms such as depth-first search (DFS)."
   ]
  },
  {
   "cell_type": "code",
   "execution_count": null,
   "id": "bd539085-1ad8-4879-bf81-e57cbe6b0d73",
   "metadata": {},
   "outputs": [],
   "source": []
  }
 ],
 "metadata": {
  "kernelspec": {
   "display_name": "Python 3 (ipykernel)",
   "language": "python",
   "name": "python3"
  },
  "language_info": {
   "codemirror_mode": {
    "name": "ipython",
    "version": 3
   },
   "file_extension": ".py",
   "mimetype": "text/x-python",
   "name": "python",
   "nbconvert_exporter": "python",
   "pygments_lexer": "ipython3",
   "version": "3.10.12"
  }
 },
 "nbformat": 4,
 "nbformat_minor": 5
}
