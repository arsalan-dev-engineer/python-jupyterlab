{
 "cells": [
  {
   "cell_type": "markdown",
   "id": "b430e043-4eb4-4049-9887-e296a4dfd74f",
   "metadata": {},
   "source": [
    "## Lists Data Structure\n",
    "\n",
    "A list is a built-in data structure in Python that is ordered, mutable, and can store a collection of items. Lists are widely used in Python for their flexibility and ability to store elements of different data types, such as integers, strings, and other lists.\n",
    "\n",
    "### Key Properties of Lists:\n",
    "\n",
    "- **Ordered**: Lists maintain the order of elements. The first element added is the first element accessed.\n",
    "- **Mutable**: You can change, add, or remove elements in a list after its creation.\n",
    "- **Indexed**: Each element in a list has an index, starting from 0 for the first element.\n",
    "- **Allow Duplicates**: Lists can contain duplicate values, unlike sets.\n",
    "- **Heterogeneous**: Lists can store elements of different types, including other lists or complex objects.\n",
    "\n",
    "### Operations on Lists:\n",
    "- **Append**: Add an element to the end of the list.\n",
    "- **Insert**: Insert an element at a specified position in the list.\n",
    "- **Remove**: Remove the first occurrence of a specified element.\n",
    "- **Pop**: Remove and return an element at a specified index (or the last element by default).\n",
    "- **Indexing**: Access elements by their index in the list.\n",
    "- **Slicing**: Create a sublist by slicing the list.\n",
    "\n",
    "### Syntax (Creating and Manipulating Lists):\n",
    "\n",
    "```python\n",
    "# Create a list\n",
    "my_list = [10, 20, 30, 40]\n",
    "\n",
    "# Append an element to the list\n",
    "my_list.append(50)  # [10, 20, 30, 40, 50]\n",
    "\n",
    "# Insert an element at a specific index\n",
    "my_list.insert(2, 25)  # [10, 20, 25, 30, 40, 50]\n",
    "\n",
    "# Remove the first occurrence of an element\n",
    "my_list.remove(25)  # [10, 20, 30, 40, 50]\n",
    "\n",
    "# Pop an element from the list (default is the last element)\n",
    "popped_element = my_list.pop()  # 50, and my_list becomes [10, 20, 30, 40]\n",
    "\n",
    "# Access elements using indexing\n",
    "first_element = my_list[0]  # 10\n",
    "\n",
    "# Create a sublist using slicing\n",
    "sublist = my_list[1:3]  # [20, 30]\n"
   ]
  },
  {
   "cell_type": "markdown",
   "id": "6a66f86e-fd18-4d67-b942-3942f1466986",
   "metadata": {},
   "source": [
    "### List Methods:\n",
    "* **append(item)**: Adds an item to the end of the list.\n",
    "* **insert(index**, item): Inserts an item at the specified index.\n",
    "* **remove(item)**: Removes the first occurrence of the item.\n",
    "* **pop(index)**: Removes and returns the item at the specified index (or the last item).\n",
    "* **index(item)**: Returns the index of the first occurrence of the item.\n",
    "* **sort()**: Sorts the list in place.\n",
    "* **reverse()**: Reverses the order of elements in the list.\n",
    "* **extend(iterable)**: Extends the list by appending all items from another iterable (e.g., another list)."
   ]
  },
  {
   "cell_type": "markdown",
   "id": "9b237399-f401-40db-aeca-7ad9949052fc",
   "metadata": {},
   "source": [
    "### Syntax (List Comprehension):\n",
    "List comprehension provides a concise way to create lists based on existing lists or other iterables.\n",
    "\n",
    "```python\n",
    "# Create a list of squares using list comprehension\n",
    "squares = [x**2 for x in range(5)]  # [0, 1, 4, 9, 16]\n",
    "\n",
    "# Create a list of even numbers from an existing list\n",
    "numbers = [1, 2, 3, 4, 5]\n",
    "even_numbers = [x for x in numbers if x % 2 == 0]  # [2, 4]\n"
   ]
  },
  {
   "cell_type": "markdown",
   "id": "e4931ddf-7c13-4be7-ad63-cd74c6a4bbae",
   "metadata": {},
   "source": [
    "### Applications of Lists:\n",
    "* **Storing Ordered Data**: Lists are perfect for maintaining ordered collections, such as a list of student names or task lists.\n",
    "* **Dynamic Data**: Lists allow dynamic changes (insertion, deletion) as new data is added or removed.\n",
    "* **Slicing and Manipulating Data**: Lists can be sliced and iterated over to perform data manipulation efficiently.\n",
    "* **Multiple Data Types**: Lists can store mixed data types, which can be useful for applications like representing objects or mixed collections."
   ]
  },
  {
   "cell_type": "code",
   "execution_count": null,
   "id": "651a8660-d20e-4970-af9e-86db7e391905",
   "metadata": {},
   "outputs": [],
   "source": []
  }
 ],
 "metadata": {
  "kernelspec": {
   "display_name": "Python 3 (ipykernel)",
   "language": "python",
   "name": "python3"
  },
  "language_info": {
   "codemirror_mode": {
    "name": "ipython",
    "version": 3
   },
   "file_extension": ".py",
   "mimetype": "text/x-python",
   "name": "python",
   "nbconvert_exporter": "python",
   "pygments_lexer": "ipython3",
   "version": "3.10.12"
  }
 },
 "nbformat": 4,
 "nbformat_minor": 5
}
