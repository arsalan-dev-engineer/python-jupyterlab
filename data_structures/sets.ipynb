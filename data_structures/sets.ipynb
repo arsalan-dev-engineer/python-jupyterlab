{
 "cells": [
  {
   "cell_type": "markdown",
   "id": "b5c56ed6-24ea-4589-b234-73bd2687ec7d",
   "metadata": {},
   "source": [
    "## Sets Data Structure\n",
    "\n",
    "A set is a built-in data structure in Python that is **unordered**, **mutable**, and **does not allow duplicates**. Sets are similar to lists, but they do not maintain order and automatically remove any duplicate elements. Sets are useful when you need to store a collection of unique items and do not care about their order.\n",
    "\n",
    "### Key Properties of Sets:\n",
    "\n",
    "- **Unordered**: The elements in a set do not have a specific order. You cannot access elements by an index.\n",
    "- **Unique Elements**: Sets automatically remove duplicate elements. Each element can appear only once.\n",
    "- **Mutable**: You can add or remove elements from a set after its creation.\n",
    "- **No Indexing**: You cannot access individual elements by index as you would with lists or tuples.\n",
    "- **Efficient Membership Testing**: Checking if an element is in a set is faster than in a list.\n",
    "\n",
    "### Operations on Sets:\n",
    "- **Add**: Adds an element to the set.\n",
    "- **Remove**: Removes an element from the set. If the element is not found, it raises a `KeyError`.\n",
    "- **Discard**: Removes an element from the set, but if the element does not exist, it does nothing (no error).\n",
    "- **Pop**: Removes and returns a random element from the set.\n",
    "- **Union**: Combines two sets into one, keeping all unique elements.\n",
    "- **Intersection**: Returns a new set with elements common to both sets.\n",
    "- **Difference**: Returns a new set with elements in one set but not in the other.\n",
    "- **Subset**: Checks if one set is a subset of another.\n",
    "\n",
    "### Syntax (Creating and Manipulating Sets):\n",
    "\n",
    "```python\n",
    "# Create a set\n",
    "my_set = {1, 2, 3, 4, 5}\n",
    "\n",
    "# Add an element to the set\n",
    "my_set.add(6)  # {1, 2, 3, 4, 5, 6}\n",
    "\n",
    "# Remove an element from the set\n",
    "my_set.remove(3)  # {1, 2, 4, 5, 6}\n",
    "\n",
    "# Discard an element (does nothing if element doesn't exist)\n",
    "my_set.discard(7)  # {1, 2, 4, 5, 6}\n",
    "\n",
    "# Pop an element (removes and returns a random element)\n",
    "popped_element = my_set.pop()\n",
    "\n",
    "# Check if an element exists in the set\n",
    "exists = 4 in my_set  # True\n",
    "\n",
    "# Set union (combine sets)\n",
    "set_a = {1, 2, 3}\n",
    "set_b = {3, 4, 5}\n",
    "union_set = set_a | set_b  # {1, 2, 3, 4, 5}\n",
    "\n",
    "# Set intersection (common elements)\n",
    "intersection_set = set_a & set_b  # {3}\n",
    "\n",
    "# Set difference (elements in set_a but not in set_b)\n",
    "difference_set = set_a - set_b  # {1, 2}\n",
    "\n",
    "# Subset check (is set_a a subset of set_b?)\n",
    "is_subset = set_a <= set_b  # False\n"
   ]
  },
  {
   "cell_type": "markdown",
   "id": "070de89e-a805-4675-8c33-c74d986c5d12",
   "metadata": {},
   "source": [
    "### Set Methods:\n",
    "* **add(item)**: Adds an item to the set.\n",
    "* **remove(item)**: Removes an item from the set. Raises a KeyError if the item is not found.\n",
    "* **discard(item)**: Removes an item from the set if it exists, but does nothing if the item is not found.\n",
    "* **pop()**: Removes and returns a random element from the set.\n",
    "* **clear()**: Removes all elements from the set.\n",
    "* **union(other_set)**: Returns a new set with elements from both sets.\n",
    "* **intersection(other_set)**: Returns a new set with elements common to both sets.\n",
    "* **difference(other_set)**: Returns a new set with elements in the first set but not in the second.\n",
    "* **issubset(other_set)**: Returns True if the set is a subset of the other set.\n",
    "* **issuperset(other_set)**: Returns True if the set is a superset of the other set."
   ]
  },
  {
   "cell_type": "markdown",
   "id": "92413b68-445c-4094-91dd-998961d897ac",
   "metadata": {},
   "source": [
    "### Example of Set Operations:\n",
    "```python\n",
    "# Set of numbers\n",
    "numbers = {1, 2, 3, 4, 5}\n",
    "\n",
    "# Remove duplicates from a list by converting it to a set\n",
    "numbers_list = [1, 2, 3, 3, 4, 5, 5]\n",
    "unique_numbers = set(numbers_list)  # {1, 2, 3, 4, 5}\n"
   ]
  },
  {
   "cell_type": "markdown",
   "id": "4f3ebfa9-3f0d-4595-a79a-4466b7d4e4ba",
   "metadata": {},
   "source": []
  },
  {
   "cell_type": "code",
   "execution_count": 61,
   "id": "fe4052c2-e603-4a1e-a9e0-475c4d1c4ff0",
   "metadata": {},
   "outputs": [
    {
     "name": "stdout",
     "output_type": "stream",
     "text": [
      "type: <class 'set'>\n",
      "u e s w o 3 c r "
     ]
    }
   ],
   "source": [
    "# 2. Write a Python program to iterate over sets.\n",
    "\n",
    "# create a set variable\n",
    "text1 = set(\"w3resource\")\n",
    "# print variable type\n",
    "print(\"type:\", type(text))\n",
    "\n",
    "# iterate through each item in set\n",
    "for i in text1:\n",
    "    print(i, end=\" \")"
   ]
  },
  {
   "cell_type": "code",
   "execution_count": 62,
   "id": "99a78b09-1a9c-4150-9153-668a96ee2e4d",
   "metadata": {},
   "outputs": [
    {
     "name": "stdout",
     "output_type": "stream",
     "text": [
      "{'alice@example.com', 'bob@example.com'}\n"
     ]
    }
   ],
   "source": [
    "# Define two groups (e.g., user lists for two social networks)\n",
    "group1 = {\"alice@example.com\", \"bob@example.com\", \"charlie@example.com\", \"dave@example.com\", \"eve@example.com\"}\n",
    "group2 = {\"frank@example.com\", \"bob@example.com\", \"grace@example.com\", \"alice@example.com\"}\n",
    "\n",
    "# Find the intersection (common users between both groups)\n",
    "common_users = group1 & group2\n",
    "\n",
    "# Output the common users\n",
    "print(common_users)  # Output: {'alice@example.com', 'bob@example.com'}"
   ]
  },
  {
   "cell_type": "code",
   "execution_count": 63,
   "id": "80c1851c-a052-499f-8ec7-8d2589ed7e73",
   "metadata": {},
   "outputs": [
    {
     "name": "stdout",
     "output_type": "stream",
     "text": [
      "Items to purchase:\n",
      " {'lime', 'lemon', 'apple'}\n",
      "\n",
      "Items in the fridge that are not needed:\n",
      " {'orange', 'blueberry', 'melon'}\n"
     ]
    }
   ],
   "source": [
    "# Checking for Unique Data\n",
    "\n",
    "# Items in the fridge and shopping list\n",
    "fridge_items = {\"banana\", \"orange\", \"kiwi\", \"strawberry\", \"melon\", \"onion\", \"blueberry\"}\n",
    "shopping_list = {\"kiwi\", \"apple\", \"lemon\", \"strawberry\", \"lime\", \"onion\", \"banana\"}\n",
    "\n",
    "# Items to purchase (not in fridge) and items in the fridge (no need to buy)\n",
    "to_purchase = shopping_list - fridge_items\n",
    "not_needed = fridge_items - shopping_list\n",
    "\n",
    "# Output the results\n",
    "print(\"Items to purchase:\\n\", to_purchase)\n",
    "print()\n",
    "print(\"Items in the fridge that are not needed:\\n\", not_needed)\n"
   ]
  },
  {
   "cell_type": "code",
   "execution_count": 64,
   "id": "6e73feeb-26d7-49f0-b20a-5bda664537b2",
   "metadata": {},
   "outputs": [
    {
     "name": "stdout",
     "output_type": "stream",
     "text": [
      "Items only in item3 (not in item4): {'orange', 'apple'}\n",
      "Items found in both item3 and item4: {'banana', 'pear'}\n"
     ]
    }
   ],
   "source": [
    "# Define two sets of items  \n",
    "item3 = {\"apple\", \"banana\", \"pear\", \"orange\"}  \n",
    "item4 = {\"kiwi\", \"melon\", \"banana\", \"pear\"}  \n",
    "\n",
    "# Find unique items in item3 (items that are not in item4)  \n",
    "unique_items = item3 - item4  \n",
    "\n",
    "# Find common items in both sets  \n",
    "common_items = item3 & item4  \n",
    "\n",
    "# Display the results  \n",
    "print(\"Items only in item3 (not in item4):\", unique_items)  \n",
    "print(\"Items found in both item3 and item4:\", common_items)  "
   ]
  },
  {
   "cell_type": "markdown",
   "id": "171b6669-6ba9-4ff3-ad44-348ae7b4494a",
   "metadata": {},
   "source": [
    "**Summary**\n",
    "* **Adding**: Use add() for one item, update() for multiple items.\n",
    "* **Removing**: Use remove() or discard() for removal, and pop() to remove an arbitrary item.\n",
    "* **Slicing**: Convert the set to a list and then use list slicing."
   ]
  },
  {
   "cell_type": "code",
   "execution_count": 65,
   "id": "90a3dda8-de54-4965-a8f2-3ce62ab26322",
   "metadata": {},
   "outputs": [
    {
     "name": "stdout",
     "output_type": "stream",
     "text": [
      "{'three', 'two', 'one'}\n"
     ]
    }
   ],
   "source": [
    "# adding item to set\n",
    "current_list1 = {\"one\", \"two\"}\n",
    "current_list1.add(\"three\")\n",
    "print(current_list1)"
   ]
  },
  {
   "cell_type": "code",
   "execution_count": 66,
   "id": "f72f0525-a30f-4813-a60b-1a3bb03cf9d5",
   "metadata": {},
   "outputs": [
    {
     "name": "stdout",
     "output_type": "stream",
     "text": [
      "{'three', 'two', 'one', 'four'}\n"
     ]
    }
   ],
   "source": [
    "# adding multiple elements to set\n",
    "current_list1 = {\"one\", \"two\"}\n",
    "current_list1.update([\"three\", \"four\"])\n",
    "print(current_list1)"
   ]
  },
  {
   "cell_type": "code",
   "execution_count": 60,
   "id": "8bfd86bc-c9ae-4722-b9f8-4ed4591d34f9",
   "metadata": {},
   "outputs": [
    {
     "name": "stdout",
     "output_type": "stream",
     "text": [
      "{'two', 'one', 'four'}\n"
     ]
    }
   ],
   "source": [
    "# removing item from list\n",
    "current_list2 = {\"one\", \"two\", \"three\", \"four\"}\n",
    "current_list2.remove(\"three\")\n",
    "print(current_list2)"
   ]
  },
  {
   "cell_type": "code",
   "execution_count": null,
   "id": "c978b4e1-81a1-4bfe-8d0e-66dade210274",
   "metadata": {},
   "outputs": [],
   "source": []
  }
 ],
 "metadata": {
  "kernelspec": {
   "display_name": "Python 3 (ipykernel)",
   "language": "python",
   "name": "python3"
  },
  "language_info": {
   "codemirror_mode": {
    "name": "ipython",
    "version": 3
   },
   "file_extension": ".py",
   "mimetype": "text/x-python",
   "name": "python",
   "nbconvert_exporter": "python",
   "pygments_lexer": "ipython3",
   "version": "3.10.12"
  }
 },
 "nbformat": 4,
 "nbformat_minor": 5
}
