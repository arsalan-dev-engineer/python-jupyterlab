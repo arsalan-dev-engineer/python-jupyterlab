{
 "cells": [
  {
   "cell_type": "markdown",
   "id": "45ceb089-0367-4f00-befe-f01dd5c6e572",
   "metadata": {},
   "source": [
    "## Heaps Data Structure\n",
    "\n",
    "A heap is a special tree-based data structure that satisfies the heap property. It is commonly used to implement priority queues, where the highest (or lowest) priority element is always at the root. Heaps are binary trees, and each parent node satisfies a specific condition relative to its children.\n",
    "\n",
    "### Key Properties of Heaps:\n",
    "\n",
    "- **Binary Tree**: A heap is a complete binary tree, meaning all levels are fully filled except possibly the last, which is filled from left to right.\n",
    "- **Heap Property**: \n",
    "  - **Max-Heap**: The value of each parent node is greater than or equal to the values of its children.\n",
    "  - **Min-Heap**: The value of each parent node is less than or equal to the values of its children.\n",
    "- **Efficient Operations**: Operations like insertion and deletion of the root element can be done efficiently in logarithmic time.\n",
    "- **Unordered**: While the heap property ensures that the root is either the maximum or minimum, other elements do not have a specific order.\n",
    "\n",
    "### Types of Heaps:\n",
    "- **Max-Heap**: The root element is the maximum, and each parent node is greater than or equal to its children.\n",
    "- **Min-Heap**: The root element is the minimum, and each parent node is less than or equal to its children.\n",
    "\n",
    "### Operations on Heaps:\n",
    "- **Insertion**: Insert an element while maintaining the heap property.\n",
    "- **Deletion**: Remove the root element (either maximum or minimum), and adjust the heap to maintain its properties.\n",
    "- **Peek**: Retrieve the root element without removing it.\n",
    "  \n",
    "### Syntax (Using Python's `heapq` module for Min-Heap):\n",
    "```python\n",
    "import heapq\n",
    "\n",
    "# Creating a heap (Min-Heap by default)\n",
    "heap = []\n",
    "heapq.heappush(heap, 20)\n",
    "heapq.heappush(heap, 10)\n",
    "heapq.heappush(heap, 30)\n",
    "\n",
    "# Peek the smallest element (root)\n",
    "min_element = heap[0]  # 10\n",
    "\n",
    "# Pop the smallest element\n",
    "smallest = heapq.heappop(heap)  # 10\n"
   ]
  },
  {
   "cell_type": "code",
   "execution_count": null,
   "id": "6b7b9cdc-d685-43d4-9576-4dcc972c466b",
   "metadata": {},
   "outputs": [],
   "source": []
  }
 ],
 "metadata": {
  "kernelspec": {
   "display_name": "Python 3 (ipykernel)",
   "language": "python",
   "name": "python3"
  },
  "language_info": {
   "codemirror_mode": {
    "name": "ipython",
    "version": 3
   },
   "file_extension": ".py",
   "mimetype": "text/x-python",
   "name": "python",
   "nbconvert_exporter": "python",
   "pygments_lexer": "ipython3",
   "version": "3.10.12"
  }
 },
 "nbformat": 4,
 "nbformat_minor": 5
}
