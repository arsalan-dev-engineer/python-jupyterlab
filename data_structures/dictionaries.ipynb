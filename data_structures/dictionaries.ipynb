{
 "cells": [
  {
   "cell_type": "markdown",
   "id": "273a34ae-c91b-4d75-b6a4-669ff58c686b",
   "metadata": {},
   "source": [
    "## Dictionaries Data Structure\n",
    "\n",
    "A dictionary is a built-in data structure in Python that stores key-value pairs. Each key is unique, and each key is associated with a value. Dictionaries are unordered collections, meaning that the order of elements does not matter. They are also mutable, meaning you can add, modify, or remove items after the dictionary is created. \n",
    "\n",
    "### Key Properties of Dictionaries:\n",
    "\n",
    "- **Key-Value Pairs**: A dictionary stores data in key-value pairs, where the key must be immutable (e.g., string, number, tuple) and unique, and the value can be any data type.\n",
    "- **Unordered**: The elements in a dictionary do not have a specific order (though starting from Python 3.7+, dictionaries maintain insertion order).\n",
    "- **Mutable**: You can modify a dictionary after its creation by adding, removing, or updating key-value pairs.\n",
    "- **Efficient Lookup**: Dictionaries allow fast lookup, insertion, and deletion operations on average with a time complexity of O(1).\n",
    "\n",
    "### Operations on Dictionaries:\n",
    "- **Insert**: Add a key-value pair to the dictionary.\n",
    "- **Delete**: Remove a key-value pair from the dictionary using the `del` keyword or the `pop()` method.\n",
    "- **Update**: Modify the value associated with an existing key.\n",
    "- **Get**: Retrieve the value associated with a key.\n",
    "- **Keys, Values, and Items**: Get lists or views of the keys, values, or key-value pairs in the dictionary.\n",
    "\n",
    "### Syntax (Creating and Manipulating Dictionaries):\n",
    "\n",
    "```python\n",
    "# Create a dictionary\n",
    "my_dict = {\"name\": \"Alice\", \"age\": 25, \"city\": \"New York\"}\n",
    "\n",
    "# Accessing a value by key\n",
    "name = my_dict[\"name\"]  # Alice\n",
    "\n",
    "# Adding a new key-value pair\n",
    "my_dict[\"job\"] = \"Engineer\"  # {\"name\": \"Alice\", \"age\": 25, \"city\": \"New York\", \"job\": \"Engineer\"}\n",
    "\n",
    "# Updating an existing value\n",
    "my_dict[\"age\"] = 26  # {\"name\": \"Alice\", \"age\": 26, \"city\": \"New York\", \"job\": \"Engineer\"}\n",
    "\n",
    "# Deleting a key-value pair using `del`\n",
    "del my_dict[\"city\"]  # {\"name\": \"Alice\", \"age\": 26, \"job\": \"Engineer\"}\n",
    "\n",
    "# Deleting a key-value pair using `pop()`\n",
    "popped_value = my_dict.pop(\"job\")  # \"Engineer\", and my_dict becomes {\"name\": \"Alice\", \"age\": 26}\n",
    "\n",
    "# Get a value using `get()` (returns None if the key does not exist)\n",
    "age = my_dict.get(\"age\")  # 26\n",
    "non_existing = my_dict.get(\"city\")  # None\n",
    "\n",
    "# Check if a key exists\n",
    "exists = \"name\" in my_dict  # True\n",
    "\n",
    "# Get keys, values, or items\n",
    "keys = my_dict.keys()  # dict_keys(['name', 'age'])\n",
    "values = my_dict.values()  # dict_values(['Alice', 26])\n",
    "items = my_dict.items()  # dict_items([('name', 'Alice'), ('age', 26)])\n"
   ]
  },
  {
   "cell_type": "markdown",
   "id": "aa01ce01-b31b-4e7c-8dd9-6f49c62c43ae",
   "metadata": {},
   "source": [
    "### Dictionary Methods:\n",
    "* **get(key)**: Returns the value associated with the key, or None if the key does not exist.\n",
    "* **pop(key)**: Removes the key-value pair and returns the value. Raises a KeyError if the key does not exist.\n",
    "* **popitem()**: Removes and returns a random key-value pair.\n",
    "* **keys()**: Returns a view object containing all the keys in the dictionary.\n",
    "* **values()**: Returns a view object containing all the values in the dictionary.\n",
    "* **items()**: Returns a view object containing all the key-value pairs as tuples.\n",
    "* **update(other_dict)**: Updates the dictionary with the key-value pairs from another dictionary or iterable."
   ]
  },
  {
   "cell_type": "markdown",
   "id": "aff8fcee-6633-4fc4-8f7c-04a79a6303bb",
   "metadata": {},
   "source": [
    "### Example of Nested Dictionary:\n",
    "Dictionaries can also store other dictionaries as values, creating nested dictionaries.\n",
    "```python\n",
    "# Nested dictionary\n",
    "student = {\n",
    "    \"name\": \"Bob\",\n",
    "    \"age\": 20,\n",
    "    \"subjects\": {\n",
    "        \"math\": 85,\n",
    "        \"english\": 90\n",
    "    }\n",
    "}\n",
    "\n",
    "# Accessing nested dictionary values\n",
    "math_score = student[\"subjects\"][\"math\"]  # 85\n"
   ]
  },
  {
   "cell_type": "code",
   "execution_count": null,
   "id": "3e8fb8f9-646b-4ca1-a37a-ac8def82c9bd",
   "metadata": {},
   "outputs": [],
   "source": []
  }
 ],
 "metadata": {
  "kernelspec": {
   "display_name": "Python 3 (ipykernel)",
   "language": "python",
   "name": "python3"
  },
  "language_info": {
   "codemirror_mode": {
    "name": "ipython",
    "version": 3
   },
   "file_extension": ".py",
   "mimetype": "text/x-python",
   "name": "python",
   "nbconvert_exporter": "python",
   "pygments_lexer": "ipython3",
   "version": "3.10.12"
  }
 },
 "nbformat": 4,
 "nbformat_minor": 5
}
