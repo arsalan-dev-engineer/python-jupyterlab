{
 "cells": [
  {
   "cell_type": "markdown",
   "id": "afbd7b22-0669-46aa-a5d4-d7b986cec581",
   "metadata": {},
   "source": [
    "## Tuples Data Structure\n",
    "\n",
    "A tuple is a built-in data structure in Python that is **ordered**, **immutable**, and can store a collection of elements. Tuples are similar to lists, but unlike lists, once a tuple is created, its elements cannot be modified. Tuples are often used to represent collections of related data that should not be changed after creation.\n",
    "\n",
    "### Key Properties of Tuples:\n",
    "\n",
    "- **Ordered**: Tuples maintain the order of elements. The first element added is the first element accessed.\n",
    "- **Immutable**: Once a tuple is created, its elements cannot be modified, added, or removed.\n",
    "- **Indexed**: Each element in a tuple has an index, starting from 0 for the first element.\n",
    "- **Allow Duplicates**: Tuples can contain duplicate values, similar to lists.\n",
    "- **Heterogeneous**: Tuples can store elements of different data types, including other tuples.\n",
    "\n",
    "### Operations on Tuples:\n",
    "- **Accessing Elements**: You can access elements by their index.\n",
    "- **Concatenation**: You can concatenate two tuples using the `+` operator.\n",
    "- **Repetition**: You can repeat the elements of a tuple using the `*` operator.\n",
    "- **Slicing**: You can slice a tuple to create a new tuple.\n",
    "- **Length**: Use the `len()` function to get the number of elements in a tuple.\n",
    "\n",
    "### Syntax (Creating and Manipulating Tuples):\n",
    "\n",
    "```python\n",
    "# Create a tuple\n",
    "my_tuple = (10, 20, 30, 40)\n",
    "\n",
    "# Access elements using indexing\n",
    "first_element = my_tuple[0]  # 10\n",
    "\n",
    "# Slice a tuple\n",
    "sub_tuple = my_tuple[1:3]  # (20, 30)\n",
    "\n",
    "# Concatenate tuples\n",
    "new_tuple = my_tuple + (50, 60)  # (10, 20, 30, 40, 50, 60)\n",
    "\n",
    "# Repeat elements of a tuple\n",
    "repeated_tuple = my_tuple * 2  # (10, 20, 30, 40, 10, 20, 30, 40)\n",
    "\n",
    "# Length of a tuple\n",
    "tuple_length = len(my_tuple)  # 4\n"
   ]
  },
  {
   "cell_type": "markdown",
   "id": "cfbb42a7-29b0-41f4-9d79-3201a8b0dd77",
   "metadata": {},
   "source": [
    "### Tuple Methods:\n",
    "* **count(value)**: Returns the number of occurrences of a specified value in the tuple.\n",
    "* **index(value)**: Returns the index of the first occurrence of a specified value in the tuple. Raises a ValueError if the value is not found."
   ]
  },
  {
   "cell_type": "markdown",
   "id": "6b0d8802-cbbd-492f-8ed1-22ce3fb3c1e7",
   "metadata": {},
   "source": [
    "### Example of Nested Tuple:\n",
    "Tuples can also contain other tuples, creating nested tuples\n",
    "```python\n",
    "# Nested tuple\n",
    "nested_tuple = (1, (2, 3), (4, 5))\n",
    "\n",
    "# Accessing elements of the nested tuple\n",
    "nested_element = nested_tuple[1][0]  # 2\n"
   ]
  },
  {
   "cell_type": "markdown",
   "id": "64d6bb78-4742-415b-b141-108842053bba",
   "metadata": {},
   "source": [
    "### Tuple Packing and Unpacking:\n",
    "* **Packing**: Assigning multiple values to a tuple.\n",
    "* **Unpacking**: Extracting values from a tuple into variables."
   ]
  },
  {
   "cell_type": "code",
   "execution_count": null,
   "id": "f3486f07-bd49-412e-b03a-213c710d00e5",
   "metadata": {},
   "outputs": [],
   "source": []
  }
 ],
 "metadata": {
  "kernelspec": {
   "display_name": "Python 3 (ipykernel)",
   "language": "python",
   "name": "python3"
  },
  "language_info": {
   "codemirror_mode": {
    "name": "ipython",
    "version": 3
   },
   "file_extension": ".py",
   "mimetype": "text/x-python",
   "name": "python",
   "nbconvert_exporter": "python",
   "pygments_lexer": "ipython3",
   "version": "3.10.12"
  }
 },
 "nbformat": 4,
 "nbformat_minor": 5
}
