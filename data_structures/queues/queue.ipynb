{
 "cells": [
  {
   "cell_type": "markdown",
   "id": "af3a06b6-01d5-41f3-9bb2-95e493fa1d6f",
   "metadata": {},
   "source": [
    "## Queues Data Structure\n",
    "\n",
    "A queue is a linear data structure that follows the **First In, First Out (FIFO)** principle. This means the first element added to the queue will be the first one to be removed. Queues are used in situations where you need to maintain the order of processing, such as in task scheduling, handling requests, or simulating real-world processes like a line of people at a ticket counter.\n",
    "\n",
    "### Key Properties of Queues:\n",
    "\n",
    "- **FIFO Principle**: The first element added to the queue is the first one to be removed.\n",
    "- **Enqueue**: Adding an element to the back (or tail) of the queue.\n",
    "- **Dequeue**: Removing an element from the front (or head) of the queue.\n",
    "- **Front**: Accessing the element at the front of the queue without removing it.\n",
    "- **IsEmpty**: Checking whether the queue is empty.\n",
    "\n",
    "### Operations on Queues:\n",
    "- **Enqueue**: Add an element to the back of the queue.\n",
    "- **Dequeue**: Remove and return the element from the front of the queue.\n",
    "- **Peek/Front**: View the element at the front of the queue without removing it.\n",
    "- **IsEmpty**: Check if the queue is empty.\n",
    "- **Size**: Get the number of elements in the queue.\n",
    "\n",
    "### Syntax (Queue Using Python's List):\n",
    "\n",
    "In Python, you can use a list to implement a queue, but this is not the most efficient method for large queues because removing elements from the front of the list is slow (O(n)).\n",
    "\n",
    "```python\n",
    "# Queue using Python list (not efficient for large queues)\n",
    "queue = []\n",
    "\n",
    "# Enqueue (add to the back of the queue)\n",
    "queue.append(10)\n",
    "queue.append(20)\n",
    "queue.append(30)\n",
    "\n",
    "# Dequeue (remove from the front of the queue)\n",
    "dequeued_element = queue.pop(0)  # 10\n",
    "\n",
    "# Peek the front element\n",
    "front_element = queue[0]  # 20\n",
    "\n",
    "# Check if the queue is empty\n",
    "is_empty = len(queue) == 0  # False\n"
   ]
  },
  {
   "cell_type": "markdown",
   "id": "8de58973-1a05-4129-a971-d48c574ebc45",
   "metadata": {},
   "source": [
    "### Queue Using a Custom Class:\n",
    "For a more efficient queue implementation, we can use a deque (double-ended queue) from Python's collections module, which allows for O(1) operations for both enqueue and dequeue.\n",
    "\n",
    "```python\n",
    "from collections import deque\n",
    "\n",
    "class Queue:\n",
    "    def __init__(self):\n",
    "        self.queue = deque()\n",
    "\n",
    "    def enqueue(self, data):\n",
    "        self.queue.append(data)\n",
    "\n",
    "    def dequeue(self):\n",
    "        if not self.is_empty():\n",
    "            return self.queue.popleft()\n",
    "        else:\n",
    "            return \"Queue is empty\"\n",
    "\n",
    "    def peek(self):\n",
    "        if not self.is_empty():\n",
    "            return self.queue[0]\n",
    "        else:\n",
    "            return \"Queue is empty\"\n",
    "\n",
    "    def is_empty(self):\n",
    "        return len(self.queue) == 0\n",
    "\n",
    "    def size(self):\n",
    "        return len(self.queue)\n",
    "\n",
    "# Usage example:\n",
    "q = Queue()\n",
    "q.enqueue(10)\n",
    "q.enqueue(20)\n",
    "q.enqueue(30)\n",
    "\n",
    "print(q.peek())  # Output: 10\n",
    "print(q.dequeue())  # Output: 10\n",
    "print(q.is_empty())  # Output: False\n"
   ]
  },
  {
   "cell_type": "markdown",
   "id": "08513dc9-ed95-4e77-8179-f2add1dc9cae",
   "metadata": {},
   "source": [
    "### Applications of Queues:\n",
    "* **Task Scheduling**: Queues are used in operating systems to manage processes or tasks that need to be executed.\n",
    "* **Breadth-First Search (BFS)**: In graph algorithms like BFS, a queue is used to explore nodes level by level.\n",
    "* **Print Queue**: Queues are used in printers to manage print jobs in the order they were received.\n",
    "* **Real-Time Processing**: Queues are used in systems that require real-time data processing, like handling requests or events in a server."
   ]
  },
  {
   "cell_type": "code",
   "execution_count": 5,
   "id": "7841c0c8-1610-4764-9516-228538f79574",
   "metadata": {},
   "outputs": [
    {
     "name": "stdout",
     "output_type": "stream",
     "text": [
      "Processing Task 1: 'Download File...'\n",
      "Processing Task 2: 'Process Date...'\n",
      "Processing Task 3: 'Upload Results...'\n"
     ]
    }
   ],
   "source": [
    "\"\"\"\n",
    "Real-World use case of Queue:\n",
    "Task Scheduling.\n",
    "\"\"\"\n",
    "\n",
    "from collections import deque\n",
    "import time\n",
    "\n",
    "# create a queue to store tasks\n",
    "task_queue = deque()\n",
    "\n",
    "# enqueue tasks\n",
    "task_queue.append(\"Task 1: 'Download File...'\")\n",
    "task_queue.append(\"Task 2: 'Process Date...'\")\n",
    "task_queue.append(\"Task 3: 'Upload Results...'\")\n",
    "\n",
    "# process tasks in FIFO order\n",
    "while task_queue:\n",
    "    # dequeue task\n",
    "    task = task_queue.popleft()\n",
    "    print(f\"Processing {task}\")\n",
    "    time.sleep(1)"
   ]
  },
  {
   "cell_type": "code",
   "execution_count": null,
   "id": "92ecacf9-939a-4d16-a5a5-f41a902e9ad3",
   "metadata": {},
   "outputs": [],
   "source": []
  }
 ],
 "metadata": {
  "kernelspec": {
   "display_name": "Python 3 (ipykernel)",
   "language": "python",
   "name": "python3"
  },
  "language_info": {
   "codemirror_mode": {
    "name": "ipython",
    "version": 3
   },
   "file_extension": ".py",
   "mimetype": "text/x-python",
   "name": "python",
   "nbconvert_exporter": "python",
   "pygments_lexer": "ipython3",
   "version": "3.10.12"
  }
 },
 "nbformat": 4,
 "nbformat_minor": 5
}
