{
 "cells": [
  {
   "cell_type": "markdown",
   "id": "af3a06b6-01d5-41f3-9bb2-95e493fa1d6f",
   "metadata": {},
   "source": [
    "# Python Data Structure: Queue\n",
    "\n",
    "## What is a Queue?\n",
    "- A **queue** is a linear data structure that follows the **FIFO** (First In, First Out) principle.\n",
    "- The first element added is the first to be removed.\n",
    "\n",
    "## How It Works:\n",
    "- **Enqueue**: Add to the **back**.\n",
    "- **Dequeue**: Remove from the **front**.\n",
    "- **Peek/Front**: View the front element without removing it.\n",
    "\n",
    "### Example:\n",
    "```python\n",
    "from collections import deque\n",
    "\n",
    "queue = deque()\n",
    "\n",
    "queue.append(\"A\")  # Enqueue\n",
    "queue.append(\"B\")\n",
    "\n",
    "print(queue.popleft())  # Dequeue (Output: A)\n",
    "print(queue[0])  # Peek (Output: B)\n"
   ]
  },
  {
   "cell_type": "code",
   "execution_count": 4,
   "id": "7841c0c8-1610-4764-9516-228538f79574",
   "metadata": {},
   "outputs": [
    {
     "name": "stdout",
     "output_type": "stream",
     "text": [
      "Processing Task 1: 'Download File...'\n",
      "Processing Task 2: 'Process Date...'\n",
      "Processing Task 3: 'Upload Results...'\n"
     ]
    }
   ],
   "source": [
    "\"\"\"\n",
    "Real-World use case of Queue:\n",
    "Task Scheduling.\n",
    "\"\"\"\n",
    "\n",
    "from collections import deque\n",
    "import time\n",
    "\n",
    "# create a queue to store tasks\n",
    "task_queue = deque()\n",
    "\n",
    "# enqueue tasks\n",
    "task_queue.append(\"Task 1: 'Download File...'\")\n",
    "task_queue.append(\"Task 2: 'Process Date...'\")\n",
    "task_queue.append(\"Task 3: 'Upload Results...'\")\n",
    "\n",
    "# process tasks in FIFO order\n",
    "while task_queue:\n",
    "    # dequeue task\n",
    "    task = task_queue.popleft()\n",
    "    print(f\"Processing {task}\")\n",
    "    time.sleep(1)"
   ]
  }
 ],
 "metadata": {
  "kernelspec": {
   "display_name": "Python 3 (ipykernel)",
   "language": "python",
   "name": "python3"
  },
  "language_info": {
   "codemirror_mode": {
    "name": "ipython",
    "version": 3
   },
   "file_extension": ".py",
   "mimetype": "text/x-python",
   "name": "python",
   "nbconvert_exporter": "python",
   "pygments_lexer": "ipython3",
   "version": "3.10.12"
  }
 },
 "nbformat": 4,
 "nbformat_minor": 5
}
