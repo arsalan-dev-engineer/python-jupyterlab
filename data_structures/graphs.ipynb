{
 "cells": [
  {
   "cell_type": "markdown",
   "id": "78a2383c-a0f7-4630-929e-20b34e5f05e7",
   "metadata": {},
   "source": [
    "## Graph Data Structure\n",
    "\n",
    "A graph is a collection of nodes (also called vertices) and edges that connect pairs of nodes. It is used to represent relationships or connections between objects. Graphs are commonly used in scenarios like social networks, routing algorithms, and recommendation systems.\n",
    "\n",
    "### Key Properties of Graphs:\n",
    "\n",
    "- **Vertices (Nodes)**: The fundamental units or entities in a graph that are connected by edges.\n",
    "- **Edges**: The connections or relationships between vertices. An edge may have a direction (directed graph) or be undirected (undirected graph).\n",
    "- **Directed or Undirected**: A directed graph has edges with a direction, while in an undirected graph, edges have no direction.\n",
    "- **Weighted or Unweighted**: In a weighted graph, edges have weights (costs), while in an unweighted graph, all edges are equal.\n",
    "\n",
    "### Types of Graphs:\n",
    "- **Directed Graph (Digraph)**: Edges have a direction.\n",
    "- **Undirected Graph**: Edges do not have a direction.\n",
    "- **Weighted Graph**: Edges have associated weights.\n",
    "- **Unweighted Graph**: All edges are equal.\n",
    "\n",
    "### Representations of Graphs:\n",
    "- **Adjacency Matrix**: A 2D array where the element at row `i` and column `j` represents an edge between vertex `i` and vertex `j`.\n",
    "- **Adjacency List**: A list where each element corresponds to a vertex, and stores a list of adjacent vertices.\n",
    "\n",
    "### Syntax (Using Adjacency List Representation):\n",
    "```python\n",
    "graph = {\n",
    "    'A': ['B', 'C'],\n",
    "    'B': ['A', 'D'],\n",
    "    'C': ['A', 'D'],\n",
    "    'D': ['B', 'C']\n",
    "}\n"
   ]
  },
  {
   "cell_type": "code",
   "execution_count": null,
   "id": "a4862205-7acf-4799-8b15-96240ba1650b",
   "metadata": {},
   "outputs": [],
   "source": []
  }
 ],
 "metadata": {
  "kernelspec": {
   "display_name": "Python 3 (ipykernel)",
   "language": "python",
   "name": "python3"
  },
  "language_info": {
   "codemirror_mode": {
    "name": "ipython",
    "version": 3
   },
   "file_extension": ".py",
   "mimetype": "text/x-python",
   "name": "python",
   "nbconvert_exporter": "python",
   "pygments_lexer": "ipython3",
   "version": "3.10.12"
  }
 },
 "nbformat": 4,
 "nbformat_minor": 5
}
