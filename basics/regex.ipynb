{
 "cells": [
  {
   "cell_type": "markdown",
   "id": "d5980095-7869-42bc-8611-88ffe8d6a8a6",
   "metadata": {},
   "source": [
    "**Python REGEX**\n",
    "\n",
    "Python regex, or regular expressions, is a powerful tool in Python's re module that allows you to search, match, and manipulate strings based on specific patterns. Regex is essential for tasks like validating input, searching through text files, and extracting data from strings.\n",
    "\n",
    "Pattern Matching: Define search patterns using sequences of characters and metacharacters.\n",
    "\n",
    "Searching: Find occurrences of the pattern in a string (search(), match(), findall()).\n",
    "\n",
    "Manipulation: Replace parts of strings that match a pattern (sub(), split()).\n",
    "\n",
    "Complex Patterns: Use special characters and sequences to create complex matching rules, such as \\d for digits, \\w for word characters, . for any character, and * for zero or more repetitions."
   ]
  },
  {
   "cell_type": "code",
   "execution_count": 1,
   "id": "41f5862f-415d-467b-bbf5-4247fa6dafe5",
   "metadata": {},
   "outputs": [],
   "source": [
    "import re"
   ]
  },
  {
   "cell_type": "code",
   "execution_count": 21,
   "id": "9c2f800e-f994-4003-bd93-a81e23274f19",
   "metadata": {},
   "outputs": [
    {
     "name": "stdout",
     "output_type": "stream",
     "text": [
      "Hello, how are you doing, Arsalan?\n",
      "Yes\n"
     ]
    }
   ],
   "source": [
    "def sentance(string):\n",
    "    print(string)\n",
    "    x = re.search(r\"Arsalan\", string)\n",
    "    if x:\n",
    "        print(\"Yes\")\n",
    "    else:\n",
    "        print(\"No\")\n",
    "\n",
    "\n",
    "sentance(\"Hello, how are you doing, Arsalan?\")"
   ]
  },
  {
   "cell_type": "code",
   "execution_count": null,
   "id": "879723fc-f41b-4bed-86ec-cc5b02dd4b62",
   "metadata": {},
   "outputs": [],
   "source": []
  }
 ],
 "metadata": {
  "kernelspec": {
   "display_name": "Python 3 (ipykernel)",
   "language": "python",
   "name": "python3"
  },
  "language_info": {
   "codemirror_mode": {
    "name": "ipython",
    "version": 3
   },
   "file_extension": ".py",
   "mimetype": "text/x-python",
   "name": "python",
   "nbconvert_exporter": "python",
   "pygments_lexer": "ipython3",
   "version": "3.10.12"
  }
 },
 "nbformat": 4,
 "nbformat_minor": 5
}
