{
 "cells": [
  {
   "cell_type": "code",
   "execution_count": 40,
   "id": "432722da-c62e-4728-90e4-bad173a8bff3",
   "metadata": {},
   "outputs": [
    {
     "name": "stdout",
     "output_type": "stream",
     "text": [
      "{1: 10, 2: 20, 3: 30, 4: 40}\n",
      "Does not exist\n"
     ]
    }
   ],
   "source": [
    "currentDir = {\n",
    "    1:10,\n",
    "    2:20,\n",
    "    3:30\n",
    "}\n",
    "# add key 4 with value 40\n",
    "currentDir[4] = 40\n",
    "print(currentDir)\n",
    "\n",
    "# check whether a given key exists in the dict\n",
    "if 21 in currentDir:\n",
    "    print(f\"Exists\")\n",
    "else:\n",
    "    print(\"Does not exist\")"
   ]
  },
  {
   "cell_type": "code",
   "execution_count": 37,
   "id": "1a9187d9-56f9-4fc7-9bc7-7a0407e4e725",
   "metadata": {},
   "outputs": [
    {
     "name": "stdout",
     "output_type": "stream",
     "text": [
      "{1: 10, 2: 20, 3: 30, 4: 40, 5: 50, 6: 60}\n",
      "Using 'update()'\n",
      "1 10\n",
      "2 20\n",
      "3 30\n",
      "4 40\n",
      "5 50\n",
      "6 60\n",
      "Using 'unpacking **'\n",
      "1 10\n",
      "2 20\n",
      "3 30\n",
      "4 40\n",
      "5 50\n",
      "6 60\n"
     ]
    }
   ],
   "source": [
    "# concatenate the following dictionaries to create a new one\n",
    "# expected Result : {1: 10, 2: 20, 3: 30, 4: 40, 5: 50, 6: 60}\n",
    "\n",
    "dic1={1:10, 2:20}\n",
    "dic2={3:30, 4:40}\n",
    "dic3={5:50,6:60}\n",
    "\n",
    "mainDict = dic1.copy()\n",
    "mainDict.update(dic2)\n",
    "mainDict.update(dic3)\n",
    "print(mainDict)\n",
    "\n",
    "print(\"Using 'update()'\")\n",
    "for k, v in mainDict.items():\n",
    "    print(k,v)\n",
    "\n",
    "print(\"Using 'unpacking **'\")\n",
    "dic1 = {1: 10, 2: 20}\n",
    "dic2 = {3: 30, 4: 40}\n",
    "dic3 = {5: 50, 6: 60}\n",
    "\n",
    "# Merging using dictionary unpacking\n",
    "mainDict = {**dic1, **dic2, **dic3}\n",
    "\n",
    "for k, v in mainDict.items():\n",
    "    print(k, v)\n"
   ]
  },
  {
   "cell_type": "code",
   "execution_count": 43,
   "id": "8824585e-466d-42c3-8fbd-2b536187e64a",
   "metadata": {},
   "outputs": [
    {
     "name": "stdout",
     "output_type": "stream",
     "text": [
      "{1: 10, 2: 20}\n",
      "{1: 10, 2: 20, 5: 50}\n"
     ]
    }
   ],
   "source": [
    "dir1 = {\n",
    "    1:10,\n",
    "    2:20\n",
    "}\n",
    "print(dir1)\n",
    "dir1[5] = 50\n",
    "print(dir1)"
   ]
  },
  {
   "cell_type": "code",
   "execution_count": 51,
   "id": "3faca7d0-a5e1-4d4c-bf17-eeba62e5c51b",
   "metadata": {},
   "outputs": [
    {
     "name": "stdout",
     "output_type": "stream",
     "text": [
      "{1: 10, 2: 20, 5: 50}\n",
      "{1: 10, 2: 20, 5: 50, '01': 100, '02': 200, '03': 300}\n"
     ]
    }
   ],
   "source": [
    "dir2 = {\n",
    "    \"01\":100,\n",
    "    \"02\":200,\n",
    "    \"03\":300\n",
    "}\n",
    "dir3 = dir1.copy()\n",
    "print(dir3)\n",
    "dir3.update(dir2)\n",
    "print(dir3)"
   ]
  },
  {
   "cell_type": "code",
   "execution_count": 69,
   "id": "beafc91d-6865-466e-9ef7-ad519a448e27",
   "metadata": {},
   "outputs": [
    {
     "name": "stdout",
     "output_type": "stream",
     "text": [
      "5\n",
      "15\n",
      "60\n",
      "\n",
      "k1: 25\n",
      "k2: 9\n",
      "k3: 16\n",
      "\n",
      "Total: 12\n"
     ]
    }
   ],
   "source": [
    "multiplyDict = {\"k1\":5, \"k2\":3, \"k3\":4}\n",
    "result = 1\n",
    "\n",
    "# multiply result by each value\n",
    "for key in multiplyDict:\n",
    "    result = result * multiplyDict[key]\n",
    "    print(result)\n",
    "\n",
    "# multiply each value by itself\n",
    "print()\n",
    "for k, v in multiplyDict.items():\n",
    "    print(f\"{k}: {v * v}\")\n",
    "\n",
    "total = sum(multiplyDict.values())\n",
    "print(f\"\\nTotal: {total}\")"
   ]
  },
  {
   "cell_type": "code",
   "execution_count": null,
   "id": "3ee94d98-b7b5-47ca-b382-a65d1f9a0050",
   "metadata": {},
   "outputs": [],
   "source": []
  }
 ],
 "metadata": {
  "kernelspec": {
   "display_name": "Python 3 (ipykernel)",
   "language": "python",
   "name": "python3"
  },
  "language_info": {
   "codemirror_mode": {
    "name": "ipython",
    "version": 3
   },
   "file_extension": ".py",
   "mimetype": "text/x-python",
   "name": "python",
   "nbconvert_exporter": "python",
   "pygments_lexer": "ipython3",
   "version": "3.10.12"
  }
 },
 "nbformat": 4,
 "nbformat_minor": 5
}
