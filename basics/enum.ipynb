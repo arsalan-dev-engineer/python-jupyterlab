{
 "cells": [
  {
   "cell_type": "markdown",
   "id": "45274997-6778-43d9-b5f4-fc81b623ede1",
   "metadata": {},
   "source": [
    "**Enum Module**\n",
    "\n",
    "Provide a way to define enumerations, which are a set of symbolic names bound to unique, constant values. Enumerations are used to represent fixed sets of related constants, improving code readability and maintenance."
   ]
  },
  {
   "cell_type": "markdown",
   "id": "ab13bf09-c625-41fe-8343-ed4b6f10cfa7",
   "metadata": {},
   "source": [
    "**Key Features**\n",
    "\n",
    "Symbolic Names: Enums allows you to define named values., which makes your code more       readable.\n",
    "\n",
    "Unique Values: Each member of an enum has a unique value, ensuring there are no            duplicates\n",
    "\n",
    "Immutability: Once defined, the values of an enum cannot be changed, ensuring              consistency."
   ]
  },
  {
   "cell_type": "markdown",
   "id": "172c4f8f-5e60-4912-aa49-1bdde3735892",
   "metadata": {},
   "source": [
    "**Conclusion**\n",
    "\n",
    "the 'enum' module in Python is a powerful tool for defining collections of related constants with symbolic names, enhancing the clarity and readability of code."
   ]
  },
  {
   "cell_type": "code",
   "execution_count": null,
   "id": "58a35de0-c153-4c1e-a376-222eed7d112f",
   "metadata": {},
   "outputs": [],
   "source": [
    "from enum import Enum"
   ]
  },
  {
   "cell_type": "code",
   "execution_count": null,
   "id": "41d7d6e7-32d1-4086-9cc5-d72e5f9c04c3",
   "metadata": {},
   "outputs": [
    {
     "name": "stdout",
     "output_type": "stream",
     "text": [
      "Access granted: administrator permissions.\n",
      "Access granted: developer permissions.\n",
      "Access Denied.\n",
      "Access Denied.\n"
     ]
    }
   ],
   "source": [
    "\n",
    "\n",
    "# define an enumeration for user roles\n",
    "class UserRole(Enum):\n",
    "    \"\"\"UserRole function defines an enumeration called UserRole,\n",
    "    with four possible values\n",
    "    \"\"\"\n",
    "    ADMIN = \"administrator\"\n",
    "    DEVELOPER = \"developer\"\n",
    "    TESTER = \"tester\"\n",
    "    GUEST = \"guest\"\n",
    "\n",
    "\n",
    "# function to check access based on the user role\n",
    "def check_access(role: UserRole):\n",
    "    \"\"\"\n",
    "    check_access(role: UserRole) function takes a parameter 'role' of \n",
    "    type 'UserRole' and checks the access permisions based on the role.\n",
    "    \"\"\"\n",
    "    # check if the role is ADMIN and grant appropriate permissions\n",
    "    if role == UserRole.ADMIN:\n",
    "        print(f\"Access granted: {UserRole.ADMIN.value} permissions.\")\n",
    "        # check if the role is DEVELOPER and grant appropriate permissions\n",
    "    elif role == UserRole.DEVELOPER:\n",
    "        # for any oyher role, deny access\n",
    "        print(f\"Access granted: {UserRole.DEVELOPER.value} permissions.\")\n",
    "    else:\n",
    "        print(\"Access Denied.\")\n",
    "\n",
    "\n",
    "# check access for the admin role\n",
    "check_access(UserRole.ADMIN)\n",
    "# check access for the developer role\n",
    "check_access(UserRole.DEVELOPER)\n",
    "# check access for the tester role\n",
    "check_access(UserRole.TESTER)\n",
    "# check access for the guest role\n",
    "check_access(UserRole.GUEST)"
   ]
  },
  {
   "cell_type": "code",
   "execution_count": null,
   "id": "84091aaa-7ffd-479c-acd6-011a2231e02c",
   "metadata": {},
   "outputs": [
    {
     "name": "stdout",
     "output_type": "stream",
     "text": [
      "Vehicle type: Motorcycle\n",
      "Vehicle type: Hatchback\n",
      "Vehicle type: Saloon\n",
      "Vehicle type: Suv\n"
     ]
    }
   ],
   "source": [
    "class VehicleType(Enum):\n",
    "    MOTORCYCLE = \"Motorcycle\"\n",
    "    HATCHBACK = \"Hatchback\"\n",
    "    SALOON = \"Saloon\"\n",
    "    SUV = \"Suv\"\n",
    "\n",
    "\n",
    "def checkType(type: Enum):\n",
    "    if type == VehicleType.MOTORCYCLE:\n",
    "        print(f\"Vehicle type: {VehicleType.MOTORCYCLE.value}\")\n",
    "\n",
    "    elif type == VehicleType.HATCHBACK:\n",
    "        print(f\"Vehicle type: {VehicleType.HATCHBACK.value}\")\n",
    "\n",
    "    elif type == VehicleType.SALOON:\n",
    "        print(f\"Vehicle type: {VehicleType.SALOON.value}\")    \n",
    "    \n",
    "    elif type == VehicleType.SUV:\n",
    "        print(f\"Vehicle type: {VehicleType.SUV.value}\")\n",
    "\n",
    "checkType(VehicleType.MOTORCYCLE)\n",
    "checkType(VehicleType.HATCHBACK)\n",
    "checkType(VehicleType.SALOON)\n",
    "checkType(VehicleType.SUV)"
   ]
  },
  {
   "cell_type": "code",
   "execution_count": null,
   "id": "09c9e4c9-014f-4856-a163-4196fc362190",
   "metadata": {},
   "outputs": [],
   "source": []
  }
 ],
 "metadata": {
  "kernelspec": {
   "display_name": "Python 3 (ipykernel)",
   "language": "python",
   "name": "python3"
  },
  "language_info": {
   "codemirror_mode": {
    "name": "ipython",
    "version": 3
   },
   "file_extension": ".py",
   "mimetype": "text/x-python",
   "name": "python",
   "nbconvert_exporter": "python",
   "pygments_lexer": "ipython3",
   "version": "3.10.12"
  }
 },
 "nbformat": 4,
 "nbformat_minor": 5
}
