{
 "cells": [
  {
   "cell_type": "code",
   "execution_count": 55,
   "id": "1530001f-14e1-4552-afc8-df6ef4e7c288",
   "metadata": {},
   "outputs": [
    {
     "name": "stdout",
     "output_type": "stream",
     "text": [
      "\n",
      "* \n",
      "* * \n",
      "* * * \n",
      "* * * * \n",
      "* * * * * \n",
      "* * * * * * \n",
      "* * * * * * * \n"
     ]
    }
   ],
   "source": [
    "n = 7\n",
    "for x in range(n+1):\n",
    "    for y in range(x):\n",
    "        print(\"*\", end=\" \")\n",
    "    print(\"\")"
   ]
  },
  {
   "cell_type": "code",
   "execution_count": 56,
   "id": "c8933209-1c6e-45d8-8352-f391ac476479",
   "metadata": {},
   "outputs": [
    {
     "name": "stdout",
     "output_type": "stream",
     "text": [
      "* * * * * * * \n",
      "* * * * * * \n",
      "* * * * * \n",
      "* * * * \n",
      "* * * \n",
      "* * \n",
      "* \n"
     ]
    }
   ],
   "source": [
    "for x in range(n, 0, -1):\n",
    "    for y in range(x):\n",
    "        print(\"*\", end=\" \")\n",
    "    print(\"\")"
   ]
  },
  {
   "cell_type": "code",
   "execution_count": 57,
   "id": "345ef8a9-c73c-4f27-981b-4e617a72ccc3",
   "metadata": {},
   "outputs": [
    {
     "name": "stdout",
     "output_type": "stream",
     "text": [
      "even numbers\n",
      "0  2  4  6  8  10  12  14  16  18  20  22  24  26  28  30  32  34  36  38  40  42  44  46  48  50  "
     ]
    }
   ],
   "source": [
    "# even numbers\n",
    "even = [e for e in range(0, 51) if e%2==0]\n",
    "print(\"even numbers\")\n",
    "for n in even:\n",
    "    print(n, end=\"  \")"
   ]
  },
  {
   "cell_type": "code",
   "execution_count": 58,
   "id": "53ad5083-030b-4ba6-8c7e-2b935093c28a",
   "metadata": {},
   "outputs": [
    {
     "name": "stdout",
     "output_type": "stream",
     "text": [
      "odd numbers\n",
      "1  3  5  7  9  11  13  15  17  19  21  23  25  27  29  31  33  35  37  39  41  43  45  47  49  "
     ]
    }
   ],
   "source": [
    "# odd numbers\n",
    "odd = [o for o in range(0, 51) if o%2==1]\n",
    "print(\"odd numbers\")\n",
    "for o in odd:\n",
    "    print(o, end=\"  \")"
   ]
  },
  {
   "cell_type": "code",
   "execution_count": 59,
   "id": "8302c40b-da09-4e45-bd9b-f296a68450dd",
   "metadata": {},
   "outputs": [
    {
     "name": "stdout",
     "output_type": "stream",
     "text": [
      "type of 1452 is <class 'int'>\n",
      "type of 11.23 is <class 'float'>\n",
      "type of (1+2j) is <class 'complex'>\n",
      "type of True is <class 'bool'>\n",
      "type of w3resource is <class 'str'>\n",
      "type of (0, -1) is <class 'tuple'>\n",
      "type of [5, 12] is <class 'list'>\n",
      "type of {'class': 'V', 'section': 'A'} is <class 'dict'>\n"
     ]
    }
   ],
   "source": [
    "datalist = [1452, 11.23, 1+2j, True, 'w3resource', (0, -1), [5, 12], {\"class\": 'V', \"section\": 'A'}]\n",
    "for item in datalist:\n",
    "    print(\"type of\", item, \"is\", type(item))"
   ]
  },
  {
   "cell_type": "code",
   "execution_count": 60,
   "id": "f4a89795-74b4-4b4d-b955-4c2dc1f3a6d1",
   "metadata": {},
   "outputs": [
    {
     "name": "stdout",
     "output_type": "stream",
     "text": [
      "0  1  2  4  5  7  8  9  10  "
     ]
    }
   ],
   "source": [
    "# iterate through numbers from 0 to 10\n",
    "for x in range(10+1):\n",
    "    # check if current value of x equals 3 or 6\n",
    "    if (x==3 or x==6):\n",
    "        # if true, skip to the next iteration\n",
    "        continue\n",
    "    # print the values of x on the same line without newLine\n",
    "    print(x, end=\"  \")"
   ]
  },
  {
   "cell_type": "code",
   "execution_count": 68,
   "id": "dbe3cf3f-5129-4dab-a57c-e512ed9ea65d",
   "metadata": {},
   "outputs": [
    {
     "name": "stdin",
     "output_type": "stream",
     "text": [
      "Enter anything:  Hello 12345\n"
     ]
    },
    {
     "name": "stdout",
     "output_type": "stream",
     "text": [
      "Total letters: 5\n",
      "Total digits: 5\n"
     ]
    }
   ],
   "source": [
    "# program that accepts a string and calculates the number\n",
    "# of digits and letters.\n",
    "\n",
    "letters = 0\n",
    "digits = 0\n",
    "word = str(input(\"Enter anything: \"))\n",
    "for c in word:\n",
    "    if c.isdigit():\n",
    "        digits += 1\n",
    "    elif c.isalpha():\n",
    "        letters += 1\n",
    "        \n",
    "print(f\"Total letters: {letters}\")\n",
    "print(f\"Total digits: {digits}\")"
   ]
  },
  {
   "cell_type": "code",
   "execution_count": null,
   "id": "fc620757-db3f-4a36-a244-56b25fd210ed",
   "metadata": {},
   "outputs": [],
   "source": []
  },
  {
   "cell_type": "code",
   "execution_count": null,
   "id": "7dd46b4a-f2f4-4366-8950-a1e2b1874843",
   "metadata": {},
   "outputs": [],
   "source": []
  }
 ],
 "metadata": {
  "kernelspec": {
   "display_name": "Python 3 (ipykernel)",
   "language": "python",
   "name": "python3"
  },
  "language_info": {
   "codemirror_mode": {
    "name": "ipython",
    "version": 3
   },
   "file_extension": ".py",
   "mimetype": "text/x-python",
   "name": "python",
   "nbconvert_exporter": "python",
   "pygments_lexer": "ipython3",
   "version": "3.10.12"
  }
 },
 "nbformat": 4,
 "nbformat_minor": 5
}
