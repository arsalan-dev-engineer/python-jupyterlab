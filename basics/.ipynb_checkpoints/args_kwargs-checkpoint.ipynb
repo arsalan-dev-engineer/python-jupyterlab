{
 "cells": [
  {
   "cell_type": "markdown",
   "id": "9eb81866-f042-40e3-bb49-6da2dd3967a0",
   "metadata": {},
   "source": [
    " **args** & **kwargs**\n",
    "\n",
    " **args** -> stands for arguments, allows a function to accept any number of positional arguments. these are passed as a tuple.\n",
    "\n",
    " **kwargs** -> stands for keyword arguments, allows a function to accept any number of named arguments (keywords). These are passed as dictionaries."
   ]
  },
  {
   "cell_type": "code",
   "execution_count": 55,
   "id": "81c0978d-0181-462e-a8e4-ec284ffd4cbd",
   "metadata": {},
   "outputs": [
    {
     "data": {
      "text/plain": [
       "'Total: 104'"
      ]
     },
     "execution_count": 55,
     "metadata": {},
     "output_type": "execute_result"
    }
   ],
   "source": [
    "\"\"\"\n",
    "Here, *args lets the add_numbers function accept \n",
    "any number of positional arguments and sums them up.\n",
    "\"\"\"\n",
    "def add_numbers(*args):\n",
    "    return f\"Total: {sum(args)}\"\n",
    "\n",
    "add_numbers(3,4,5,6,74,3,2,4,3)"
   ]
  },
  {
   "cell_type": "code",
   "execution_count": 59,
   "id": "b87922ab-cd31-45ea-aa2b-eb5a2d5b90a7",
   "metadata": {},
   "outputs": [
    {
     "name": "stdout",
     "output_type": "stream",
     "text": [
      "name: arsalan\n",
      "age: 28\n",
      "city: London\n",
      "country: UK\n"
     ]
    }
   ],
   "source": [
    "\"\"\"\n",
    "In this example, **kwargs allows print_info to \n",
    "accept any number of keyword arguments and prints them.\n",
    "\"\"\"\n",
    "\n",
    "def print_info(**kwargs):\n",
    "    for key, value in kwargs.items():\n",
    "        print(f\"{key}: {value}\")\n",
    "\n",
    "\n",
    "print_info(name=\"arsalan\", age=28, city=\"London\", country=\"UK\")"
   ]
  },
  {
   "cell_type": "code",
   "execution_count": 60,
   "id": "99e77207-9f59-4f00-8944-4a1d1bc06904",
   "metadata": {},
   "outputs": [
    {
     "name": "stdout",
     "output_type": "stream",
     "text": [
      "Positional arguments: (1, 2, 3)\n",
      "Keyword arguments: {'name': 'arsalan', 'age': 28}\n"
     ]
    }
   ],
   "source": [
    "def show_details(*args, **kwargs):\n",
    "    print(\"Positional arguments:\", args)\n",
    "    print(\"Keyword arguments:\", kwargs)\n",
    "\n",
    "\n",
    "show_details(1,2,3, name=\"arsalan\", age=28)"
   ]
  }
 ],
 "metadata": {
  "kernelspec": {
   "display_name": "Python 3 (ipykernel)",
   "language": "python",
   "name": "python3"
  },
  "language_info": {
   "codemirror_mode": {
    "name": "ipython",
    "version": 3
   },
   "file_extension": ".py",
   "mimetype": "text/x-python",
   "name": "python",
   "nbconvert_exporter": "python",
   "pygments_lexer": "ipython3",
   "version": "3.10.12"
  }
 },
 "nbformat": 4,
 "nbformat_minor": 5
}
